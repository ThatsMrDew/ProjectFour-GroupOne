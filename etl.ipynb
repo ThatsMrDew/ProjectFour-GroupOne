{
 "cells": [
  {
   "cell_type": "code",
   "execution_count": 1,
   "metadata": {},
   "outputs": [],
   "source": [
    "import pandas as pd\n",
    "import sqlite3"
   ]
  },
  {
   "cell_type": "code",
   "execution_count": 2,
   "metadata": {},
   "outputs": [],
   "source": [
    "df = pd.read_csv('Resources/heart_attack_prediction.csv')"
   ]
  },
  {
   "cell_type": "code",
   "execution_count": 3,
   "metadata": {},
   "outputs": [
    {
     "data": {
      "text/plain": [
       "Index(['Patient ID', 'Age', 'Sex', 'Cholesterol', 'Blood Pressure',\n",
       "       'Heart Rate', 'Diabetes', 'Family History', 'Smoking', 'Obesity',\n",
       "       'Alcohol Consumption', 'Exercise Hours Per Week', 'Diet',\n",
       "       'Previous Heart Problems', 'Medication Use', 'Stress Level',\n",
       "       'Sedentary Hours Per Day', 'Income', 'BMI', 'Triglycerides',\n",
       "       'Physical Activity Days Per Week', 'Sleep Hours Per Day', 'Country',\n",
       "       'Continent', 'Hemisphere', 'Heart Attack Risk'],\n",
       "      dtype='object')"
      ]
     },
     "execution_count": 3,
     "metadata": {},
     "output_type": "execute_result"
    }
   ],
   "source": [
    "df.columns"
   ]
  },
  {
   "cell_type": "code",
   "execution_count": 4,
   "metadata": {},
   "outputs": [
    {
     "data": {
      "text/plain": [
       "Patient ID                         0\n",
       "Age                                0\n",
       "Sex                                0\n",
       "Cholesterol                        0\n",
       "Blood Pressure                     0\n",
       "Heart Rate                         0\n",
       "Diabetes                           0\n",
       "Family History                     0\n",
       "Smoking                            0\n",
       "Obesity                            0\n",
       "Alcohol Consumption                0\n",
       "Exercise Hours Per Week            0\n",
       "Diet                               0\n",
       "Previous Heart Problems            0\n",
       "Medication Use                     0\n",
       "Stress Level                       0\n",
       "Sedentary Hours Per Day            0\n",
       "Income                             0\n",
       "BMI                                0\n",
       "Triglycerides                      0\n",
       "Physical Activity Days Per Week    0\n",
       "Sleep Hours Per Day                0\n",
       "Country                            0\n",
       "Continent                          0\n",
       "Hemisphere                         0\n",
       "Heart Attack Risk                  0\n",
       "dtype: int64"
      ]
     },
     "execution_count": 4,
     "metadata": {},
     "output_type": "execute_result"
    }
   ],
   "source": [
    "df.isnull().sum()"
   ]
  },
  {
   "cell_type": "code",
   "execution_count": 5,
   "metadata": {},
   "outputs": [
    {
     "data": {
      "text/plain": [
       "Patient ID                         8763\n",
       "Age                                  73\n",
       "Sex                                   2\n",
       "Cholesterol                         281\n",
       "Blood Pressure                     3915\n",
       "Heart Rate                           71\n",
       "Diabetes                              2\n",
       "Family History                        2\n",
       "Smoking                               2\n",
       "Obesity                               2\n",
       "Alcohol Consumption                   2\n",
       "Exercise Hours Per Week            8763\n",
       "Diet                                  3\n",
       "Previous Heart Problems               2\n",
       "Medication Use                        2\n",
       "Stress Level                         10\n",
       "Sedentary Hours Per Day            8763\n",
       "Income                             8615\n",
       "BMI                                8763\n",
       "Triglycerides                       771\n",
       "Physical Activity Days Per Week       8\n",
       "Sleep Hours Per Day                   7\n",
       "Country                              20\n",
       "Continent                             6\n",
       "Hemisphere                            2\n",
       "Heart Attack Risk                     2\n",
       "dtype: int64"
      ]
     },
     "execution_count": 5,
     "metadata": {},
     "output_type": "execute_result"
    }
   ],
   "source": [
    "df.nunique()"
   ]
  },
  {
   "cell_type": "code",
   "execution_count": 6,
   "metadata": {},
   "outputs": [],
   "source": [
    "df.drop(columns=['Patient ID','Country','Continent','Hemisphere','Income'], inplace=True)"
   ]
  },
  {
   "cell_type": "code",
   "execution_count": 7,
   "metadata": {},
   "outputs": [],
   "source": [
    "#Reduce specificity to reduce number of unique values (skewing results)\n",
    "#Blood Pressure \n",
    "df[['Systolic Pressure', 'Diastolic Pressure']]  = df['Blood Pressure'].str.split('/', expand=True)\n",
    "df.drop(columns=['Blood Pressure'], inplace=True)  # Drop the original column\n",
    "#Exercise Hours Per Week\n",
    "df['Exercise Hours Per Week'] = df['Exercise Hours Per Week'].astype('int')  \n",
    "#Sedentary Hours Per Day\n",
    "df['Sedentary Hours Per Day'] = df['Sedentary Hours Per Day'].astype('int')  \n",
    "#BMI\n",
    "df['BMI'] = df['BMI'].astype('int')\n",
    "\n"
   ]
  },
  {
   "cell_type": "code",
   "execution_count": 8,
   "metadata": {},
   "outputs": [
    {
     "data": {
      "text/html": [
       "<div>\n",
       "<style scoped>\n",
       "    .dataframe tbody tr th:only-of-type {\n",
       "        vertical-align: middle;\n",
       "    }\n",
       "\n",
       "    .dataframe tbody tr th {\n",
       "        vertical-align: top;\n",
       "    }\n",
       "\n",
       "    .dataframe thead th {\n",
       "        text-align: right;\n",
       "    }\n",
       "</style>\n",
       "<table border=\"1\" class=\"dataframe\">\n",
       "  <thead>\n",
       "    <tr style=\"text-align: right;\">\n",
       "      <th></th>\n",
       "      <th>Age</th>\n",
       "      <th>Sex</th>\n",
       "      <th>Cholesterol</th>\n",
       "      <th>Heart Rate</th>\n",
       "      <th>Diabetes</th>\n",
       "      <th>Family History</th>\n",
       "      <th>Smoking</th>\n",
       "      <th>Obesity</th>\n",
       "      <th>Alcohol Consumption</th>\n",
       "      <th>Exercise Hours Per Week</th>\n",
       "      <th>...</th>\n",
       "      <th>Medication Use</th>\n",
       "      <th>Stress Level</th>\n",
       "      <th>Sedentary Hours Per Day</th>\n",
       "      <th>BMI</th>\n",
       "      <th>Triglycerides</th>\n",
       "      <th>Physical Activity Days Per Week</th>\n",
       "      <th>Sleep Hours Per Day</th>\n",
       "      <th>Heart Attack Risk</th>\n",
       "      <th>Systolic Pressure</th>\n",
       "      <th>Diastolic Pressure</th>\n",
       "    </tr>\n",
       "  </thead>\n",
       "  <tbody>\n",
       "    <tr>\n",
       "      <th>0</th>\n",
       "      <td>67</td>\n",
       "      <td>Male</td>\n",
       "      <td>208</td>\n",
       "      <td>72</td>\n",
       "      <td>0</td>\n",
       "      <td>0</td>\n",
       "      <td>1</td>\n",
       "      <td>0</td>\n",
       "      <td>0</td>\n",
       "      <td>4</td>\n",
       "      <td>...</td>\n",
       "      <td>0</td>\n",
       "      <td>9</td>\n",
       "      <td>6</td>\n",
       "      <td>31</td>\n",
       "      <td>286</td>\n",
       "      <td>0</td>\n",
       "      <td>6</td>\n",
       "      <td>0</td>\n",
       "      <td>158</td>\n",
       "      <td>88</td>\n",
       "    </tr>\n",
       "    <tr>\n",
       "      <th>1</th>\n",
       "      <td>21</td>\n",
       "      <td>Male</td>\n",
       "      <td>389</td>\n",
       "      <td>98</td>\n",
       "      <td>1</td>\n",
       "      <td>1</td>\n",
       "      <td>1</td>\n",
       "      <td>1</td>\n",
       "      <td>1</td>\n",
       "      <td>1</td>\n",
       "      <td>...</td>\n",
       "      <td>0</td>\n",
       "      <td>1</td>\n",
       "      <td>4</td>\n",
       "      <td>27</td>\n",
       "      <td>235</td>\n",
       "      <td>1</td>\n",
       "      <td>7</td>\n",
       "      <td>0</td>\n",
       "      <td>165</td>\n",
       "      <td>93</td>\n",
       "    </tr>\n",
       "    <tr>\n",
       "      <th>2</th>\n",
       "      <td>21</td>\n",
       "      <td>Female</td>\n",
       "      <td>324</td>\n",
       "      <td>72</td>\n",
       "      <td>1</td>\n",
       "      <td>0</td>\n",
       "      <td>0</td>\n",
       "      <td>0</td>\n",
       "      <td>0</td>\n",
       "      <td>2</td>\n",
       "      <td>...</td>\n",
       "      <td>1</td>\n",
       "      <td>9</td>\n",
       "      <td>9</td>\n",
       "      <td>28</td>\n",
       "      <td>587</td>\n",
       "      <td>4</td>\n",
       "      <td>4</td>\n",
       "      <td>0</td>\n",
       "      <td>174</td>\n",
       "      <td>99</td>\n",
       "    </tr>\n",
       "    <tr>\n",
       "      <th>3</th>\n",
       "      <td>84</td>\n",
       "      <td>Male</td>\n",
       "      <td>383</td>\n",
       "      <td>73</td>\n",
       "      <td>1</td>\n",
       "      <td>1</td>\n",
       "      <td>1</td>\n",
       "      <td>0</td>\n",
       "      <td>1</td>\n",
       "      <td>9</td>\n",
       "      <td>...</td>\n",
       "      <td>0</td>\n",
       "      <td>9</td>\n",
       "      <td>7</td>\n",
       "      <td>36</td>\n",
       "      <td>378</td>\n",
       "      <td>3</td>\n",
       "      <td>4</td>\n",
       "      <td>0</td>\n",
       "      <td>163</td>\n",
       "      <td>100</td>\n",
       "    </tr>\n",
       "    <tr>\n",
       "      <th>4</th>\n",
       "      <td>66</td>\n",
       "      <td>Male</td>\n",
       "      <td>318</td>\n",
       "      <td>93</td>\n",
       "      <td>1</td>\n",
       "      <td>1</td>\n",
       "      <td>1</td>\n",
       "      <td>1</td>\n",
       "      <td>0</td>\n",
       "      <td>5</td>\n",
       "      <td>...</td>\n",
       "      <td>0</td>\n",
       "      <td>6</td>\n",
       "      <td>1</td>\n",
       "      <td>21</td>\n",
       "      <td>231</td>\n",
       "      <td>1</td>\n",
       "      <td>5</td>\n",
       "      <td>0</td>\n",
       "      <td>91</td>\n",
       "      <td>88</td>\n",
       "    </tr>\n",
       "  </tbody>\n",
       "</table>\n",
       "<p>5 rows × 22 columns</p>\n",
       "</div>"
      ],
      "text/plain": [
       "   Age     Sex  Cholesterol  Heart Rate  Diabetes  Family History  Smoking  \\\n",
       "0   67    Male          208          72         0               0        1   \n",
       "1   21    Male          389          98         1               1        1   \n",
       "2   21  Female          324          72         1               0        0   \n",
       "3   84    Male          383          73         1               1        1   \n",
       "4   66    Male          318          93         1               1        1   \n",
       "\n",
       "   Obesity  Alcohol Consumption  Exercise Hours Per Week  ... Medication Use  \\\n",
       "0        0                    0                        4  ...              0   \n",
       "1        1                    1                        1  ...              0   \n",
       "2        0                    0                        2  ...              1   \n",
       "3        0                    1                        9  ...              0   \n",
       "4        1                    0                        5  ...              0   \n",
       "\n",
       "   Stress Level  Sedentary Hours Per Day  BMI  Triglycerides  \\\n",
       "0             9                        6   31            286   \n",
       "1             1                        4   27            235   \n",
       "2             9                        9   28            587   \n",
       "3             9                        7   36            378   \n",
       "4             6                        1   21            231   \n",
       "\n",
       "   Physical Activity Days Per Week  Sleep Hours Per Day  Heart Attack Risk  \\\n",
       "0                                0                    6                  0   \n",
       "1                                1                    7                  0   \n",
       "2                                4                    4                  0   \n",
       "3                                3                    4                  0   \n",
       "4                                1                    5                  0   \n",
       "\n",
       "   Systolic Pressure  Diastolic Pressure  \n",
       "0                158                  88  \n",
       "1                165                  93  \n",
       "2                174                  99  \n",
       "3                163                 100  \n",
       "4                 91                  88  \n",
       "\n",
       "[5 rows x 22 columns]"
      ]
     },
     "execution_count": 8,
     "metadata": {},
     "output_type": "execute_result"
    }
   ],
   "source": [
    "df.head()"
   ]
  },
  {
   "cell_type": "code",
   "execution_count": 9,
   "metadata": {},
   "outputs": [
    {
     "data": {
      "text/plain": [
       "Age                                 73\n",
       "Sex                                  2\n",
       "Cholesterol                        281\n",
       "Heart Rate                          71\n",
       "Diabetes                             2\n",
       "Family History                       2\n",
       "Smoking                              2\n",
       "Obesity                              2\n",
       "Alcohol Consumption                  2\n",
       "Exercise Hours Per Week             20\n",
       "Diet                                 3\n",
       "Previous Heart Problems              2\n",
       "Medication Use                       2\n",
       "Stress Level                        10\n",
       "Sedentary Hours Per Day             12\n",
       "BMI                                 22\n",
       "Triglycerides                      771\n",
       "Physical Activity Days Per Week      8\n",
       "Sleep Hours Per Day                  7\n",
       "Heart Attack Risk                    2\n",
       "Systolic Pressure                   91\n",
       "Diastolic Pressure                  51\n",
       "dtype: int64"
      ]
     },
     "execution_count": 9,
     "metadata": {},
     "output_type": "execute_result"
    }
   ],
   "source": [
    "df.nunique()"
   ]
  },
  {
   "cell_type": "code",
   "execution_count": 10,
   "metadata": {},
   "outputs": [],
   "source": [
    "# Database\n",
    "# Connect to SQLite (creates the database file if it doesn't exist)\n",
    "conn = sqlite3.connect('heart.db')\n",
    "\n",
    "# Save DataFrame to SQLite\n",
    "df.to_sql('heart_attack_risk', conn, if_exists='replace', index=False)\n",
    "\n",
    "# Close the connection\n",
    "conn.close()"
   ]
  }
 ],
 "metadata": {
  "kernelspec": {
   "display_name": "dev",
   "language": "python",
   "name": "python3"
  },
  "language_info": {
   "codemirror_mode": {
    "name": "ipython",
    "version": 3
   },
   "file_extension": ".py",
   "mimetype": "text/x-python",
   "name": "python",
   "nbconvert_exporter": "python",
   "pygments_lexer": "ipython3",
   "version": "3.10.14"
  }
 },
 "nbformat": 4,
 "nbformat_minor": 2
}
